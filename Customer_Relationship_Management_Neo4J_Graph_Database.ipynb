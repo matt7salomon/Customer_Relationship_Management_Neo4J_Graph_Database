{
 "cells": [
  {
   "cell_type": "code",
   "execution_count": 2,
   "id": "8076132a",
   "metadata": {},
   "outputs": [],
   "source": [
    "from dotenv import load_dotenv\n",
    "import os\n",
    "load_dotenv()\n",
    "Neo4j_Pass = os.environ['NEO4J_PASS']"
   ]
  },
  {
   "cell_type": "code",
   "execution_count": 1,
   "id": "2659d06d",
   "metadata": {},
   "outputs": [],
   "source": [
    "from neo4j import GraphDatabase\n",
    "\n",
    "class CRMNeo4j:\n",
    "\n",
    "    def __init__(self, uri, user, password):\n",
    "        self.driver = GraphDatabase.driver(uri, auth=(user, password))\n",
    "\n",
    "    def close(self):\n",
    "        self.driver.close()\n",
    "    \n",
    "    def add_customer(self, customer_id, name, email):\n",
    "        with self.driver.session() as session:\n",
    "            session.write_transaction(self._create_customer, customer_id, name, email)\n",
    "\n",
    "    def add_product(self, product_id, name, price):\n",
    "        with self.driver.session() as session:\n",
    "            session.write_transaction(self._create_product, product_id, name, price)\n",
    "\n",
    "    def add_purchase(self, customer_id, product_id, date):\n",
    "        with self.driver.session() as session:\n",
    "            session.write_transaction(self._create_purchase, customer_id, product_id, date)\n",
    "\n",
    "    @staticmethod\n",
    "    def _create_customer(tx, customer_id, name, email):\n",
    "        query = (\n",
    "            \"CREATE (c:Customer {customer_id: $customer_id, name: $name, email: $email}) \"\n",
    "            \"RETURN c\"\n",
    "        )\n",
    "        tx.run(query, customer_id=customer_id, name=name, email=email)\n",
    "\n",
    "    @staticmethod\n",
    "    def _create_product(tx, product_id, name, price):\n",
    "        query = (\n",
    "            \"CREATE (p:Product {product_id: $product_id, name: $name, price: $price}) \"\n",
    "            \"RETURN p\"\n",
    "        )\n",
    "        tx.run(query, product_id=product_id, name=name, price=price)\n",
    "\n",
    "    @staticmethod\n",
    "    def _create_purchase(tx, customer_id, product_id, date):\n",
    "        query = (\n",
    "            \"MATCH (c:Customer {customer_id: $customer_id}), (p:Product {product_id: $product_id}) \"\n",
    "            \"CREATE (c)-[:PURCHASED {date: $date}]->(p) \"\n",
    "            \"RETURN c, p\"\n",
    "        )\n",
    "        tx.run(query, customer_id=customer_id, product_id=product_id, date=date)\n",
    "\n",
    "    def get_customer_purchases(self, customer_id):\n",
    "        with self.driver.session() as session:\n",
    "            return session.read_transaction(self._get_customer_purchases, customer_id)\n",
    "\n",
    "    @staticmethod\n",
    "    def _get_customer_purchases(tx, customer_id):\n",
    "        query = (\n",
    "            \"MATCH (c:Customer {customer_id: $customer_id})-[:PURCHASED]->(p:Product) \"\n",
    "            \"RETURN p.product_id AS product_id, p.name AS name, p.price AS price\"\n",
    "        )\n",
    "        result = tx.run(query, customer_id=customer_id)\n",
    "        return [record.data() for record in result]\n",
    "\n",
    "    def get_product_customers(self, product_id):\n",
    "        with self.driver.session() as session:\n",
    "            return session.read_transaction(self._get_product_customers, product_id)\n",
    "\n",
    "    @staticmethod\n",
    "    def _get_product_customers(tx, product_id):\n",
    "        query = (\n",
    "            \"MATCH (p:Product {product_id: $product_id})<-[:PURCHASED]-(c:Customer) \"\n",
    "            \"RETURN c.customer_id AS customer_id, c.name AS name, c.email AS email\"\n",
    "        )\n",
    "        result = tx.run(query, product_id=product_id)\n",
    "        return [record.data() for record in result]"
   ]
  },
  {
   "cell_type": "code",
   "execution_count": 3,
   "id": "ad344fe7",
   "metadata": {},
   "outputs": [
    {
     "name": "stderr",
     "output_type": "stream",
     "text": [
      "/var/folders/45/07b7h57d7d1gx4px8xjqcx640000gn/T/ipykernel_1204/2477979760.py:13: DeprecationWarning: write_transaction has been renamed to execute_write\n",
      "  session.write_transaction(self._create_customer, customer_id, name, email)\n",
      "/var/folders/45/07b7h57d7d1gx4px8xjqcx640000gn/T/ipykernel_1204/2477979760.py:17: DeprecationWarning: write_transaction has been renamed to execute_write\n",
      "  session.write_transaction(self._create_product, product_id, name, price)\n",
      "/var/folders/45/07b7h57d7d1gx4px8xjqcx640000gn/T/ipykernel_1204/2477979760.py:21: DeprecationWarning: write_transaction has been renamed to execute_write\n",
      "  session.write_transaction(self._create_purchase, customer_id, product_id, date)\n",
      "/var/folders/45/07b7h57d7d1gx4px8xjqcx640000gn/T/ipykernel_1204/2477979760.py:50: DeprecationWarning: read_transaction has been renamed to execute_read\n",
      "  return session.read_transaction(self._get_customer_purchases, customer_id)\n"
     ]
    },
    {
     "name": "stdout",
     "output_type": "stream",
     "text": [
      "John's Purchases: [{'product_id': 'PROD001', 'name': 'Laptop', 'price': 999.99}, {'product_id': 'PROD001', 'name': 'Laptop', 'price': 1200.0}, {'product_id': 'PROD001', 'name': 'Laptop', 'price': 1200.0}, {'product_id': 'PROD001', 'name': 'Laptop', 'price': 1200.0}, {'product_id': 'PROD001', 'name': 'Laptop', 'price': 1200.0}, {'product_id': 'PROD001', 'name': 'Laptop', 'price': 1200.0}, {'product_id': 'PROD001', 'name': 'Laptop', 'price': 1200.0}, {'product_id': 'PROD001', 'name': 'Laptop', 'price': 1200.0}, {'product_id': 'PROD001', 'name': 'Laptop', 'price': 1200.0}, {'product_id': 'PROD001', 'name': 'Laptop', 'price': 1200.0}, {'product_id': 'PROD001', 'name': 'Laptop', 'price': 1200.0}, {'product_id': 'PROD001', 'name': 'Laptop', 'price': 999.99}, {'product_id': 'PROD001', 'name': 'Laptop', 'price': 1200.0}, {'product_id': 'PROD001', 'name': 'Laptop', 'price': 1200.0}, {'product_id': 'PROD001', 'name': 'Laptop', 'price': 1200.0}, {'product_id': 'PROD001', 'name': 'Laptop', 'price': 1200.0}, {'product_id': 'PROD001', 'name': 'Laptop', 'price': 1200.0}, {'product_id': 'PROD001', 'name': 'Laptop', 'price': 1200.0}, {'product_id': 'PROD001', 'name': 'Laptop', 'price': 1200.0}, {'product_id': 'PROD001', 'name': 'Laptop', 'price': 1200.0}, {'product_id': 'PROD001', 'name': 'Laptop', 'price': 1200.0}, {'product_id': 'PROD001', 'name': 'Laptop', 'price': 1200.0}, {'product_id': 'PROD001', 'name': 'Laptop', 'price': 999.99}, {'product_id': 'PROD001', 'name': 'Laptop', 'price': 1200.0}, {'product_id': 'PROD001', 'name': 'Laptop', 'price': 1200.0}, {'product_id': 'PROD001', 'name': 'Laptop', 'price': 1200.0}, {'product_id': 'PROD001', 'name': 'Laptop', 'price': 1200.0}, {'product_id': 'PROD001', 'name': 'Laptop', 'price': 1200.0}, {'product_id': 'PROD001', 'name': 'Laptop', 'price': 999.99}, {'product_id': 'PROD001', 'name': 'Laptop', 'price': 1200.0}]\n",
      "Smartphone Customers: [{'customer_id': 'CUST002', 'name': 'Jane Smith', 'email': 'jane@example.com'}, {'customer_id': 'CUST002', 'name': 'Bob Smith', 'email': 'bob@example.com'}, {'customer_id': 'CUST002', 'name': 'Bob Smith', 'email': 'bob@example.com'}, {'customer_id': 'CUST002', 'name': 'Bob Smith', 'email': 'bob@example.com'}, {'customer_id': 'CUST002', 'name': 'Bob Smith', 'email': 'bob@example.com'}, {'customer_id': 'CUST002', 'name': 'Bob Smith', 'email': 'bob@example.com'}, {'customer_id': 'CUST002', 'name': 'Bob Smith', 'email': 'bob@example.com'}, {'customer_id': 'CUST002', 'name': 'Bob Smith', 'email': 'bob@example.com'}, {'customer_id': 'CUST002', 'name': 'Bob Smith', 'email': 'bob@example.com'}, {'customer_id': 'CUST002', 'name': 'Bob Smith', 'email': 'bob@example.com'}, {'customer_id': 'CUST002', 'name': 'Jane Smith', 'email': 'jane@example.com'}, {'customer_id': 'CUST002', 'name': 'Bob Smith', 'email': 'bob@example.com'}, {'customer_id': 'CUST002', 'name': 'Bob Smith', 'email': 'bob@example.com'}, {'customer_id': 'CUST002', 'name': 'Bob Smith', 'email': 'bob@example.com'}, {'customer_id': 'CUST002', 'name': 'Bob Smith', 'email': 'bob@example.com'}, {'customer_id': 'CUST002', 'name': 'Bob Smith', 'email': 'bob@example.com'}, {'customer_id': 'CUST002', 'name': 'Bob Smith', 'email': 'bob@example.com'}, {'customer_id': 'CUST002', 'name': 'Bob Smith', 'email': 'bob@example.com'}, {'customer_id': 'CUST002', 'name': 'Bob Smith', 'email': 'bob@example.com'}, {'customer_id': 'CUST002', 'name': 'Jane Smith', 'email': 'jane@example.com'}, {'customer_id': 'CUST002', 'name': 'Bob Smith', 'email': 'bob@example.com'}, {'customer_id': 'CUST002', 'name': 'Bob Smith', 'email': 'bob@example.com'}, {'customer_id': 'CUST002', 'name': 'Bob Smith', 'email': 'bob@example.com'}, {'customer_id': 'CUST002', 'name': 'Bob Smith', 'email': 'bob@example.com'}, {'customer_id': 'CUST002', 'name': 'Bob Smith', 'email': 'bob@example.com'}, {'customer_id': 'CUST002', 'name': 'Bob Smith', 'email': 'bob@example.com'}, {'customer_id': 'CUST002', 'name': 'Bob Smith', 'email': 'bob@example.com'}, {'customer_id': 'CUST002', 'name': 'Bob Smith', 'email': 'bob@example.com'}, {'customer_id': 'CUST002', 'name': 'Jane Smith', 'email': 'jane@example.com'}, {'customer_id': 'CUST002', 'name': 'Bob Smith', 'email': 'bob@example.com'}]\n"
     ]
    },
    {
     "name": "stderr",
     "output_type": "stream",
     "text": [
      "/var/folders/45/07b7h57d7d1gx4px8xjqcx640000gn/T/ipykernel_1204/2477979760.py:63: DeprecationWarning: read_transaction has been renamed to execute_read\n",
      "  return session.read_transaction(self._get_product_customers, product_id)\n"
     ]
    }
   ],
   "source": [
    "# Initialize the CRM system and connect to Neo4j\n",
    "crm = CRMNeo4j(\"bolt://localhost:7687\", \"neo4j\", Neo4j_Pass)\n",
    "\n",
    "# Add customers\n",
    "crm.add_customer(\"CUST001\", \"John Doe\", \"john@example.com\")\n",
    "crm.add_customer(\"CUST002\", \"Jane Smith\", \"jane@example.com\")\n",
    "\n",
    "# Add products\n",
    "crm.add_product(\"PROD001\", \"Laptop\", 999.99)\n",
    "crm.add_product(\"PROD002\", \"Smartphone\", 499.99)\n",
    "\n",
    "# Add purchases\n",
    "crm.add_purchase(\"CUST001\", \"PROD001\", \"2024-01-10\")\n",
    "crm.add_purchase(\"CUST002\", \"PROD002\", \"2024-01-15\")\n",
    "\n",
    "# Retrieve customer purchases\n",
    "purchases = crm.get_customer_purchases(\"CUST001\")\n",
    "print(f\"John's Purchases: {purchases}\")\n",
    "\n",
    "# Retrieve product's customers\n",
    "customers = crm.get_product_customers(\"PROD002\")\n",
    "print(f\"Smartphone Customers: {customers}\")\n",
    "\n",
    "# Close connection\n",
    "crm.close()"
   ]
  },
  {
   "cell_type": "markdown",
   "id": "e7ae8ac1",
   "metadata": {},
   "source": [
    "### Add a customer"
   ]
  },
  {
   "cell_type": "code",
   "execution_count": 4,
   "id": "6b3f3f9d",
   "metadata": {},
   "outputs": [
    {
     "ename": "SyntaxError",
     "evalue": "invalid syntax (3759384655.py, line 1)",
     "output_type": "error",
     "traceback": [
      "\u001b[0;36m  Cell \u001b[0;32mIn[4], line 1\u001b[0;36m\u001b[0m\n\u001b[0;31m    CREATE (c:Customer {customer_id: $customer_id, name: $name, email: $email})\u001b[0m\n\u001b[0m             ^\u001b[0m\n\u001b[0;31mSyntaxError\u001b[0m\u001b[0;31m:\u001b[0m invalid syntax\n"
     ]
    }
   ],
   "source": [
    "CREATE (c:Customer {customer_id: $customer_id, name: $name, email: $email})\n",
    "RETURN c"
   ]
  },
  {
   "cell_type": "code",
   "execution_count": null,
   "id": "5ebd715c",
   "metadata": {},
   "outputs": [],
   "source": []
  }
 ],
 "metadata": {
  "kernelspec": {
   "display_name": "TF_python310",
   "language": "python",
   "name": "tf_python310"
  },
  "language_info": {
   "codemirror_mode": {
    "name": "ipython",
    "version": 3
   },
   "file_extension": ".py",
   "mimetype": "text/x-python",
   "name": "python",
   "nbconvert_exporter": "python",
   "pygments_lexer": "ipython3",
   "version": "3.10.9"
  }
 },
 "nbformat": 4,
 "nbformat_minor": 5
}
