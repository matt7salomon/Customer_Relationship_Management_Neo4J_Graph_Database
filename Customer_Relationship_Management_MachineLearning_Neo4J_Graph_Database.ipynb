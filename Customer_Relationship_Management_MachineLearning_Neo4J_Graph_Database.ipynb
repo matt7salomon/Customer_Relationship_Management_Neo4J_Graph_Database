{
 "cells": [
  {
   "cell_type": "code",
   "execution_count": 20,
   "id": "7fab780d",
   "metadata": {},
   "outputs": [],
   "source": [
    "from dotenv import load_dotenv\n",
    "import os\n",
    "load_dotenv()\n",
    "Neo4j_Pass = os.environ['NEO4J_PASS']"
   ]
  },
  {
   "cell_type": "code",
   "execution_count": 22,
   "id": "49cdc848",
   "metadata": {},
   "outputs": [
    {
     "name": "stdout",
     "output_type": "stream",
     "text": [
      "  customer_id  num_transactions  avg_transaction_amount  churned\n",
      "1          c1                10                   125.0        0\n",
      "2          c2                 5                   200.0        0\n",
      "3          c3                 5                    50.0        0\n",
      "              precision    recall  f1-score   support\n",
      "\n",
      "           0       1.00      1.00      1.00         1\n",
      "\n",
      "    accuracy                           1.00         1\n",
      "   macro avg       1.00      1.00      1.00         1\n",
      "weighted avg       1.00      1.00      1.00         1\n",
      "\n"
     ]
    },
    {
     "name": "stderr",
     "output_type": "stream",
     "text": [
      "/var/folders/45/07b7h57d7d1gx4px8xjqcx640000gn/T/ipykernel_2835/1077836705.py:57: DeprecationWarning: write_transaction has been renamed to execute_write\n",
      "  session.write_transaction(create_data)\n",
      "/var/folders/45/07b7h57d7d1gx4px8xjqcx640000gn/T/ipykernel_2835/1077836705.py:58: DeprecationWarning: read_transaction has been renamed to execute_read\n",
      "  data = session.read_transaction(extract_customer_data)\n"
     ]
    }
   ],
   "source": [
    "from neo4j import GraphDatabase\n",
    "import pandas as pd\n",
    "from sklearn.model_selection import train_test_split\n",
    "from sklearn.ensemble import RandomForestClassifier\n",
    "from sklearn.metrics import classification_report\n",
    "\n",
    "# Connect to Neo4j\n",
    "uri = \"bolt://localhost:7687\"\n",
    "driver = GraphDatabase.driver(uri, auth=(\"neo4j\", Neo4j_Pass))\n",
    "\n",
    "def create_data(tx):\n",
    "    query = \"\"\"\n",
    "\n",
    "           \n",
    "    CREATE (c1:Customer {id: 'c1', name: 'Alice'}),\n",
    "       (c2:Customer {id: 'c2', name: 'Bob'}),\n",
    "       (c3:Customer {id: 'c3', name: 'Charlie'}),\n",
    "       (p1:Product {id: 'p1', name: 'ProductA'}),\n",
    "       (p2:Product {id: 'p2', name: 'ProductB'}),\n",
    "       (c1)-[:MADE_PURCHASE {amount: 100}]->(p1),\n",
    "       (c1)-[:MADE_PURCHASE {amount: 150}]->(p2),\n",
    "       (c2)-[:MADE_PURCHASE {amount: 200}]->(p1),\n",
    "       (c3)-[:MADE_PURCHASE {amount: 50}]->(p2),\n",
    "       (c1)-[:REFERRED_BY]->(c2),\n",
    "       (c2)-[:REFERRED_BY]->(c3);\n",
    "\n",
    "    \"\"\"    \n",
    "    tx.run(query)\n",
    "    query= \"\"\" \n",
    "    \n",
    "    CREATE (c1)-[:CHURNED]->(c1),\n",
    "           (c3)-[:CHURNED]->(c3);\n",
    "    \"\"\"    \n",
    "    tx.run(query)\n",
    "    \n",
    "    return #data\n",
    "\n",
    "def extract_customer_data(tx):\n",
    "    query = \"\"\"\n",
    "\n",
    "           \n",
    "    MATCH (c:Customer)\n",
    "    OPTIONAL MATCH (c)-[r:MADE_PURCHASE]->(p:Product)\n",
    "    OPTIONAL MATCH (c)<-[:REFERRED_BY]-(referrer:Customer)\n",
    "    OPTIONAL MATCH (c)-[:CHURNED]->(churned:Customer)\n",
    "    RETURN c.id AS customer_id, \n",
    "           COALESCE(COUNT(r), 0) AS num_transactions, \n",
    "           COALESCE(AVG(r.amount), 0) AS avg_transaction_amount, \n",
    "           CASE WHEN COUNT(churned) > 0 THEN 1 ELSE 0 END AS churned\n",
    "    \"\"\"\n",
    "    result = tx.run(query)\n",
    "    data = [record.data() for record in result]\n",
    "    return data\n",
    "\n",
    "def main():\n",
    "    with driver.session() as session:\n",
    "        session.write_transaction(create_data)\n",
    "        data = session.read_transaction(extract_customer_data)\n",
    "\n",
    "    df = pd.DataFrame(data).dropna()\n",
    "    print(df)\n",
    "    # Features and Labels\n",
    "    X = df[['num_transactions', 'avg_transaction_amount']]\n",
    "    y = df['churned']\n",
    "\n",
    "    # Train-Test Split\n",
    "    X_train, X_test, y_train, y_test = train_test_split(X, y, test_size=0.3, random_state=42)\n",
    "\n",
    "    # Model Training\n",
    "    model = RandomForestClassifier(n_estimators=100, random_state=42)\n",
    "    model.fit(X_train, y_train)\n",
    "\n",
    "    # Prediction and Evaluation\n",
    "    y_pred = model.predict(X_test)\n",
    "    print(classification_report(y_test, y_pred))\n",
    "\n",
    "if __name__ == \"__main__\":\n",
    "    main()"
   ]
  },
  {
   "cell_type": "code",
   "execution_count": null,
   "id": "3fe72166",
   "metadata": {},
   "outputs": [],
   "source": []
  }
 ],
 "metadata": {
  "kernelspec": {
   "display_name": "TF_python310",
   "language": "python",
   "name": "tf_python310"
  },
  "language_info": {
   "codemirror_mode": {
    "name": "ipython",
    "version": 3
   },
   "file_extension": ".py",
   "mimetype": "text/x-python",
   "name": "python",
   "nbconvert_exporter": "python",
   "pygments_lexer": "ipython3",
   "version": "3.10.9"
  }
 },
 "nbformat": 4,
 "nbformat_minor": 5
}
